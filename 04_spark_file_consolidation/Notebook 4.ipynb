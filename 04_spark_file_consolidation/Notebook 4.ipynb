{
  "cells": [
    {
      "cell_type": "code",
      "source": [
        "%%pyspark\r\n",
        "spark.sql(\"DROP TABLE IF EXISTS CUSTOMER\");\r\n",
        "spark.sql(\"DROP TABLE IF EXISTS LINEITEM\");\r\n",
        "spark.sql(\"DROP TABLE IF EXISTS NATION\");\r\n",
        "spark.sql(\"DROP TABLE IF EXISTS ORDERS\");\r\n",
        "spark.sql(\"DROP TABLE IF EXISTS PART\");\r\n",
        "spark.sql(\"DROP TABLE IF EXISTS PARTSUPP\");\r\n",
        "spark.sql(\"DROP TABLE IF EXISTS REGION\");\r\n",
        "spark.sql(\"DROP TABLE IF EXISTS SUPPLIER\");"
      ],
      "outputs": [
        {
          "output_type": "display_data",
          "data": {
            "application/vnd.livy.statement-meta+json": {
              "spark_pool": "pool2",
              "session_id": 3,
              "statement_id": 11,
              "state": "finished",
              "livy_statement_state": "available",
              "queued_time": "2021-02-19T04:02:01.5076381Z",
              "execution_start_time": "2021-02-19T04:02:01.5800334Z",
              "execution_finish_time": "2021-02-19T04:05:23.4235221Z"
            },
            "text/plain": "StatementMeta(pool2, 3, 11, Finished, Available)"
          },
          "metadata": {}
        },
        {
          "output_type": "execute_result",
          "execution_count": 9,
          "data": {
            "text/plain": "DataFrame[]"
          },
          "metadata": {}
        }
      ],
      "execution_count": 9,
      "metadata": {
        "jupyter": {
          "source_hidden": false,
          "outputs_hidden": false
        },
        "nteract": {
          "transient": {
            "deleting": false
          }
        },
        "microsoft": {
          "language": "python"
        },
        "collapsed": false
      }
    },
    {
      "cell_type": "code",
      "source": [
        "%%pyspark\r\n",
        "spark.sql(\"CREATE TABLE IF NOT EXISTS CUSTOMER USING parquet OPTIONS (path 'abfss://tpch-sf1000@tpchdata.dfs.core.windows.net/CUSTOMER/*')\")\r\n",
        "spark.sql(\"CREATE TABLE IF NOT EXISTS LINEITEM USING parquet OPTIONS (path 'abfss://tpch-sf1000@tpchdata.dfs.core.windows.net/LINEITEM/*')\")\r\n",
        "spark.sql(\"CREATE TABLE IF NOT EXISTS NATION USING parquet OPTIONS (path 'abfss://tpch-sf1000@tpchdata.dfs.core.windows.net/NATION/*')\")\r\n",
        "spark.sql(\"CREATE TABLE IF NOT EXISTS ORDERS USING parquet OPTIONS (path 'abfss://tpch-sf1000@tpchdata.dfs.core.windows.net/ORDERS/*')\")\r\n",
        "spark.sql(\"CREATE TABLE IF NOT EXISTS PART USING parquet OPTIONS (path 'abfss://tpch-sf1000@tpchdata.dfs.core.windows.net/PART/*')\")\r\n",
        "spark.sql(\"CREATE TABLE IF NOT EXISTS PARTSUPP USING parquet OPTIONS (path 'abfss://tpch-sf1000@tpchdata.dfs.core.windows.net/PARTSUPP/*')\")\r\n",
        "spark.sql(\"CREATE TABLE IF NOT EXISTS REGION USING parquet OPTIONS (path 'abfss://tpch-sf1000@tpchdata.dfs.core.windows.net/REGION/*')\")\r\n",
        "spark.sql(\"CREATE TABLE IF NOT EXISTS SUPPLIER USING parquet OPTIONS (path 'abfss://tpch-sf1000@tpchdata.dfs.core.windows.net/SUPPLIER/*')\")\r\n"
      ],
      "outputs": [
        {
          "output_type": "display_data",
          "data": {
            "application/vnd.livy.statement-meta+json": {
              "spark_pool": "pool2",
              "session_id": 3,
              "statement_id": 12,
              "state": "finished",
              "livy_statement_state": "available",
              "queued_time": "2021-02-19T04:03:32.2893279Z",
              "execution_start_time": "2021-02-19T04:05:23.4993841Z",
              "execution_finish_time": "2021-02-19T04:14:25.7228785Z"
            },
            "text/plain": "StatementMeta(pool2, 3, 12, Finished, Available)"
          },
          "metadata": {}
        },
        {
          "output_type": "execute_result",
          "execution_count": 10,
          "data": {
            "text/plain": "DataFrame[]"
          },
          "metadata": {}
        }
      ],
      "execution_count": 10,
      "metadata": {
        "jupyter": {
          "source_hidden": false,
          "outputs_hidden": false
        },
        "nteract": {
          "transient": {
            "deleting": false
          }
        },
        "microsoft": {
          "language": "python"
        },
        "collapsed": false
      }
    },
    {
      "cell_type": "code",
      "source": [
        "%%pyspark\r\n",
        "resultsDF=spark.sql(\"SELECT CAST(C_CUSTKEY as LONG) AS C_CUSTKEY , C_NAME ,C_ADDRESS ,CAST(C_NATIONKEY as LONG) AS C_NATIONKEY ,C_PHONE ,C_ACCTBAL ,C_MKTSEGMENT ,C_COMMENT FROM CUSTOMER \")\r\n",
        "resultsDF.write.parquet(\"abfss://tpch-sf1000-consolidated@tpchdata.dfs.core.windows.net/CUSTOMER/\")"
      ],
      "outputs": [
        {
          "output_type": "display_data",
          "data": {
            "application/vnd.livy.statement-meta+json": {
              "spark_pool": "pool2",
              "session_id": 4,
              "statement_id": 5,
              "state": "finished",
              "livy_statement_state": "available",
              "queued_time": "2021-02-19T04:19:10.0592021Z",
              "execution_start_time": "2021-02-19T04:19:10.1339957Z",
              "execution_finish_time": "2021-02-19T04:21:02.3058394Z"
            },
            "text/plain": "StatementMeta(pool2, 4, 5, Finished, Available)"
          },
          "metadata": {}
        },
        {
          "output_type": "execute_result",
          "execution_count": 13,
          "data": {
            "text/plain": ""
          },
          "metadata": {}
        }
      ],
      "execution_count": 13,
      "metadata": {
        "microsoft": {
          "language": "python"
        }
      }
    },
    {
      "cell_type": "code",
      "source": [
        "%%pyspark\r\n",
        "resultsDF=spark.sql(\"SELECT CAST(L_ORDERKEY as LONG) AS L_ORDERKEY ,CAST(L_PARTKEY as LONG) AS L_PARTKEY ,CAST(L_SUPPKEY as LONG) AS L_SUPPKEY ,CAST(L_LINENUMBER as LONG) AS L_LINENUMBER ,L_QUANTITY ,L_EXTENDEDPRICE ,L_DISCOUNT ,L_TAX ,L_RETURNFLAG ,L_LINESTATUS ,L_SHIPDATE ,L_COMMITDATE ,L_RECEIPTDATE ,L_SHIPINSTRUCT ,L_SHIPMODE ,L_COMMENT FROM LINEITEM\")\r\n",
        "resultsDF.write.parquet(\"abfss://tpch-sf1000-consolidated@tpchdata.dfs.core.windows.net/LINEITEM/\")"
      ],
      "outputs": [
        {
          "output_type": "display_data",
          "data": {
            "application/vnd.livy.statement-meta+json": {
              "spark_pool": "pool2",
              "session_id": 5,
              "statement_id": 3,
              "state": "finished",
              "livy_statement_state": "available",
              "queued_time": "2021-02-19T04:37:08.9765908Z",
              "execution_start_time": "2021-02-19T04:38:22.7689689Z",
              "execution_finish_time": "2021-02-19T04:44:05.5128531Z"
            },
            "text/plain": "StatementMeta(pool2, 5, 3, Finished, Available)"
          },
          "metadata": {}
        },
        {
          "output_type": "execute_result",
          "execution_count": 16,
          "data": {
            "text/plain": ""
          },
          "metadata": {}
        }
      ],
      "execution_count": 16,
      "metadata": {
        "jupyter": {
          "source_hidden": false,
          "outputs_hidden": false
        },
        "nteract": {
          "transient": {
            "deleting": false
          }
        },
        "microsoft": {
          "language": "python"
        },
        "collapsed": true
      }
    },
    {
      "cell_type": "code",
      "source": [
        "%%pyspark\r\n",
        "resultsDF=spark.sql(\"SELECT CAST(N_NATIONKEY as LONG) AS N_NATIONKEY ,N_NAME ,CAST(N_REGIONKEY as LONG) AS N_REGIONKEY ,N_COMMENT FROM NATION\")\r\n",
        "resultsDF.write.parquet(\"abfss://tpch-sf1000-consolidated@tpchdata.dfs.core.windows.net/NATION/\")"
      ],
      "outputs": [
        {
          "output_type": "display_data",
          "data": {
            "application/vnd.livy.statement-meta+json": {
              "spark_pool": "pool2",
              "session_id": 5,
              "statement_id": 4,
              "state": "finished",
              "livy_statement_state": "available",
              "queued_time": "2021-02-19T04:37:19.939004Z",
              "execution_start_time": "2021-02-19T04:44:05.6278257Z",
              "execution_finish_time": "2021-02-19T04:44:07.6756756Z"
            },
            "text/plain": "StatementMeta(pool2, 5, 4, Finished, Available)"
          },
          "metadata": {}
        },
        {
          "output_type": "execute_result",
          "execution_count": 17,
          "data": {
            "text/plain": ""
          },
          "metadata": {}
        }
      ],
      "execution_count": 17,
      "metadata": {
        "jupyter": {
          "source_hidden": false,
          "outputs_hidden": false
        },
        "nteract": {
          "transient": {
            "deleting": false
          }
        },
        "microsoft": {
          "language": "python"
        },
        "collapsed": true
      }
    },
    {
      "cell_type": "code",
      "source": [
        "%%pyspark\r\n",
        "resultsDF=spark.sql(\"SELECT\tCAST(O_ORDERKEY as LONG) AS O_ORDERKEY ,\tCAST(O_CUSTKEY as LONG) AS O_CUSTKEY ,\tO_ORDERSTATUS ,\tO_TOTALPRICE ,\tO_ORDERDATE ,\tO_ORDERPRIORITY ,\tO_CLERK ,\tCAST(O_SHIPPRIORITY as LONG) AS O_SHIPPRIORITY ,\tO_COMMENT FROM ORDERS\")\r\n",
        "resultsDF.write.parquet(\"abfss://tpch-sf1000-consolidated@tpchdata.dfs.core.windows.net/ORDERS/\")"
      ],
      "outputs": [
        {
          "output_type": "display_data",
          "data": {
            "application/vnd.livy.statement-meta+json": {
              "spark_pool": "pool2",
              "session_id": 5,
              "statement_id": 5,
              "state": "finished",
              "livy_statement_state": "available",
              "queued_time": "2021-02-19T04:37:22.3552329Z",
              "execution_start_time": "2021-02-19T04:44:07.7405881Z",
              "execution_finish_time": "2021-02-19T04:45:39.4082338Z"
            },
            "text/plain": "StatementMeta(pool2, 5, 5, Finished, Available)"
          },
          "metadata": {}
        },
        {
          "output_type": "execute_result",
          "execution_count": 18,
          "data": {
            "text/plain": ""
          },
          "metadata": {}
        }
      ],
      "execution_count": 18,
      "metadata": {
        "jupyter": {
          "source_hidden": false,
          "outputs_hidden": false
        },
        "nteract": {
          "transient": {
            "deleting": false
          }
        },
        "microsoft": {
          "language": "python"
        },
        "collapsed": true
      }
    },
    {
      "cell_type": "code",
      "source": [
        "%%pyspark\r\n",
        "resultsDF=spark.sql(\"SELECT CAST(P_PARTKEY as LONG) AS P_PARTKEY ,P_NAME ,P_MFGR ,P_BRAND ,P_TYPE ,CAST(P_SIZE as LONG) AS P_SIZE ,P_CONTAINER ,P_RETAILPRICE ,P_COMMENT FROM PART\")\r\n",
        "resultsDF.write.parquet(\"abfss://tpch-sf1000-consolidated@tpchdata.dfs.core.windows.net/PART/\")"
      ],
      "outputs": [
        {
          "output_type": "display_data",
          "data": {
            "application/vnd.livy.statement-meta+json": {
              "spark_pool": "pool2",
              "session_id": 5,
              "statement_id": 6,
              "state": "finished",
              "livy_statement_state": "available",
              "queued_time": "2021-02-19T04:37:24.1217397Z",
              "execution_start_time": "2021-02-19T04:45:39.4752062Z",
              "execution_finish_time": "2021-02-19T04:46:03.9169153Z"
            },
            "text/plain": "StatementMeta(pool2, 5, 6, Finished, Available)"
          },
          "metadata": {}
        },
        {
          "output_type": "execute_result",
          "execution_count": 19,
          "data": {
            "text/plain": ""
          },
          "metadata": {}
        }
      ],
      "execution_count": 19,
      "metadata": {
        "jupyter": {
          "source_hidden": false,
          "outputs_hidden": false
        },
        "nteract": {
          "transient": {
            "deleting": false
          }
        },
        "microsoft": {
          "language": "python"
        },
        "collapsed": true
      }
    },
    {
      "cell_type": "code",
      "source": [
        "%%pyspark\r\n",
        "resultsDF=spark.sql(\"SELECT CAST(PS_PARTKEY as LONG) AS PS_PARTKEY ,CAST(PS_SUPPKEY as LONG) AS PS_SUPPKEY ,CAST(PS_AVAILQTY as LONG) AS PS_AVAILQTY ,PS_SUPPLYCOST ,PS_COMMENT FROM PARTSUPP\")\r\n",
        "resultsDF.write.parquet(\"abfss://tpch-sf1000-consolidated@tpchdata.dfs.core.windows.net/PARTSUPP/\")"
      ],
      "outputs": [
        {
          "output_type": "display_data",
          "data": {
            "application/vnd.livy.statement-meta+json": {
              "spark_pool": "pool2",
              "session_id": 5,
              "statement_id": 7,
              "state": "finished",
              "livy_statement_state": "available",
              "queued_time": "2021-02-19T04:37:27.4754988Z",
              "execution_start_time": "2021-02-19T04:46:03.9814504Z",
              "execution_finish_time": "2021-02-19T04:47:01.9167176Z"
            },
            "text/plain": "StatementMeta(pool2, 5, 7, Finished, Available)"
          },
          "metadata": {}
        },
        {
          "output_type": "execute_result",
          "execution_count": 20,
          "data": {
            "text/plain": ""
          },
          "metadata": {}
        }
      ],
      "execution_count": 20,
      "metadata": {
        "jupyter": {
          "source_hidden": false,
          "outputs_hidden": false
        },
        "nteract": {
          "transient": {
            "deleting": false
          }
        },
        "microsoft": {
          "language": "python"
        },
        "collapsed": true
      }
    },
    {
      "cell_type": "code",
      "source": [
        "%%pyspark\r\n",
        "resultsDF=spark.sql(\"SELECT CAST(R_REGIONKEY as LONG) AS R_REGIONKEY ,R_NAME ,R_COMMENT FROM REGION\")\r\n",
        "resultsDF.write.parquet(\"abfss://tpch-sf1000-consolidated@tpchdata.dfs.core.windows.net/REGION/\")"
      ],
      "outputs": [
        {
          "output_type": "display_data",
          "data": {
            "application/vnd.livy.statement-meta+json": {
              "spark_pool": "pool2",
              "session_id": 5,
              "statement_id": 8,
              "state": "finished",
              "livy_statement_state": "available",
              "queued_time": "2021-02-19T04:37:29.7636757Z",
              "execution_start_time": "2021-02-19T04:47:01.9861958Z",
              "execution_finish_time": "2021-02-19T04:47:04.0194773Z"
            },
            "text/plain": "StatementMeta(pool2, 5, 8, Finished, Available)"
          },
          "metadata": {}
        },
        {
          "output_type": "execute_result",
          "execution_count": 21,
          "data": {
            "text/plain": ""
          },
          "metadata": {}
        }
      ],
      "execution_count": 21,
      "metadata": {
        "jupyter": {
          "source_hidden": false,
          "outputs_hidden": false
        },
        "nteract": {
          "transient": {
            "deleting": false
          }
        },
        "microsoft": {
          "language": "python"
        },
        "collapsed": true
      }
    },
    {
      "cell_type": "code",
      "source": [
        "%%pyspark\r\n",
        "resultsDF=spark.sql(\"SELECT CAST(S_SUPPKEY as LONG) AS S_SUPPKEY ,S_NAME ,\tS_ADDRESS,\tCAST(S_NATIONKEY AS LONG) as S_NATIONKEY,\tS_PHONE ,\tS_ACCTBAL, \tS_COMMENT  FROM SUPPLIER \")\r\n",
        "resultsDF.write.parquet(\"abfss://tpch-sf1000-consolidated@tpchdata.dfs.core.windows.net/SUPPLIER/\")"
      ],
      "outputs": [
        {
          "output_type": "display_data",
          "data": {
            "application/vnd.livy.statement-meta+json": {
              "spark_pool": "pool2",
              "session_id": 6,
              "statement_id": 3,
              "state": "finished",
              "livy_statement_state": "available",
              "queued_time": "2021-02-19T05:20:12.0264331Z",
              "execution_start_time": "2021-02-19T05:23:15.3360243Z",
              "execution_finish_time": "2021-02-19T05:23:43.8738249Z"
            },
            "text/plain": "StatementMeta(pool2, 6, 3, Finished, Available)"
          },
          "metadata": {}
        },
        {
          "output_type": "execute_result",
          "execution_count": 1,
          "data": {
            "text/plain": ""
          },
          "metadata": {}
        }
      ],
      "execution_count": 1,
      "metadata": {
        "jupyter": {
          "source_hidden": false,
          "outputs_hidden": false
        },
        "nteract": {
          "transient": {
            "deleting": false
          }
        },
        "microsoft": {
          "language": "python"
        },
        "collapsed": true
      }
    }
  ],
  "metadata": {
    "kernelspec": {
      "name": "synapse_pyspark",
      "language": "Python",
      "display_name": "Synapse PySpark"
    },
    "language_info": {
      "name": "python"
    },
    "microsoft": {
      "language": "python"
    },
    "kernel_info": {
      "name": "synapse_pyspark"
    },
    "nteract": {
      "version": "nteract-front-end@1.0.0"
    },
    "save_output": true,
    "synapse_widget": {
      "version": "0.1",
      "state": {}
    }
  },
  "nbformat": 4,
  "nbformat_minor": 2
}